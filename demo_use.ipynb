{
 "cells": [
  {
   "cell_type": "markdown",
   "metadata": {},
   "source": [
    "## Import Libraries\n",
    "Use the robosteer12idb.inference library file for interence. \n",
    "robosteer12idb.data may be helpful in loading data from files and interpolation. "
   ]
  },
  {
   "cell_type": "code",
   "execution_count": 1,
   "metadata": {},
   "outputs": [],
   "source": [
    "import robosteer12idb.inference as rs_inf\n",
    "import robosteer12idb.data as rs_data\n",
    "import numpy as np"
   ]
  },
  {
   "cell_type": "markdown",
   "metadata": {},
   "source": [
    "## Basic Usage\n",
    "\n",
    "Use the pred_usr_pos function to predict a value. The functions are documented in the inference file. \n",
    "\n",
    "You can point to the model checkpoint directly, or alternatively use the load_model function to load and cache the model in your scripts. \n",
    "\n",
    "The model expects the reading, rescaled from -1, to 1 and interpolated to 200 points. "
   ]
  },
  {
   "cell_type": "code",
   "execution_count": 2,
   "metadata": {},
   "outputs": [
    {
     "name": "stdout",
     "output_type": "stream",
     "text": [
      "<class 'numpy.ndarray'>\n",
      "(200,)\n"
     ]
    }
   ],
   "source": [
    "scan = rs_data.read_pos_dat('../../Data/robo_steer/raw/Chaney/Scans/scan10.dat')\n",
    "scan = rs_data.rescale_scan(scan, 200)\n",
    "print(type(scan.reads))\n",
    "print(scan.reads.shape)"
   ]
  },
  {
   "cell_type": "code",
   "execution_count": 3,
   "metadata": {},
   "outputs": [
    {
     "name": "stdout",
     "output_type": "stream",
     "text": [
      "Output -0.06619001179933548 | Ground Truth -0.06954999999999956\n"
     ]
    }
   ],
   "source": [
    "output = rs_inf.pred_usr_pos(scan.reads, 'models_prod/mlp_256_2_aug.ckpt')\n",
    "print(f'Output {output} | Ground Truth {scan.usr_pos}')"
   ]
  },
  {
   "cell_type": "markdown",
   "metadata": {},
   "source": [
    "## Batch Processing\n",
    "\n",
    "Pytorch supports batch processing along the 0th dimension. "
   ]
  },
  {
   "cell_type": "code",
   "execution_count": 6,
   "metadata": {},
   "outputs": [
    {
     "name": "stdout",
     "output_type": "stream",
     "text": [
      "(5, 200)\n"
     ]
    }
   ],
   "source": [
    "scans = []\n",
    "for i in range(5):\n",
    "    scan = rs_data.read_pos_dat(f'../../Data/robo_steer/raw/Chaney/Scans/scan2{i}.dat')\n",
    "    scans.append(rs_data.rescale_scan(scan, 200))\n",
    "\n",
    "reads = np.stack([scan.reads for scan in scans])\n",
    "truths = np.stack([scan.usr_pos for scan in scans])\n",
    "print(reads.shape)\n"
   ]
  },
  {
   "cell_type": "code",
   "execution_count": 7,
   "metadata": {},
   "outputs": [
    {
     "name": "stdout",
     "output_type": "stream",
     "text": [
      "Output [ 0.00398981 -0.05430502  0.06269082  0.07890099 -0.03701586] | Ground Truth [-0.00424    -0.06513     0.10070447  0.0563977  -0.491365  ]\n"
     ]
    }
   ],
   "source": [
    "output = rs_inf.pred_usr_pos(reads, 'models_prod/mlp_256_2_aug.ckpt')\n",
    "print(f'Output {output} | Ground Truth {truths}')"
   ]
  },
  {
   "cell_type": "code",
   "execution_count": null,
   "metadata": {},
   "outputs": [],
   "source": []
  }
 ],
 "metadata": {
  "kernelspec": {
   "display_name": "Python 3.9.13 ('soc_xrd')",
   "language": "python",
   "name": "python3"
  },
  "language_info": {
   "codemirror_mode": {
    "name": "ipython",
    "version": 3
   },
   "file_extension": ".py",
   "mimetype": "text/x-python",
   "name": "python",
   "nbconvert_exporter": "python",
   "pygments_lexer": "ipython3",
   "version": "3.9.13"
  },
  "orig_nbformat": 4,
  "vscode": {
   "interpreter": {
    "hash": "8b11a24f3d04c9808196a1322b43ba722f0f6ab265726f7f89086b18951d16d7"
   }
  }
 },
 "nbformat": 4,
 "nbformat_minor": 2
}
